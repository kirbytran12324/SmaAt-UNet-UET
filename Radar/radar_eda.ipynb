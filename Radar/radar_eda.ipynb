{
  "cells": [
    {
      "cell_type": "code",
      "execution_count": 1,
      "metadata": {
        "colab": {
          "base_uri": "https://localhost:8080/"
        },
        "id": "FG40wDGUjqkN",
        "outputId": "70f00005-cdf5-477d-b2f5-5e84cc8ca754"
      },
      "outputs": [],
      "source": [
        "import tifffile\n",
        "import h5py\n",
        "import os\n",
        "import random\n",
        "from datetime import datetime\n",
        "import numpy as np\n",
        "import torch\n",
        "import rasterio\n",
        "from rasterio.plot import show\n",
        "\n",
        "from scipy.interpolate import griddata\n",
        "import matplotlib.pyplot as plt\n",
        "\n"
      ]
    },
    {
      "cell_type": "markdown",
      "metadata": {
        "id": "txzq3s3AVd3u"
      },
      "source": [
        "# Dữ liệu ảnh Radar\n",
        "\n",
        "*  Khoảng thời gian: tháng 4, 10 năm 2019, 2020\n",
        "*  Độ phân giải không gian: 0.04 độ ~ 4KM\n",
        "*  Độ phân giải thời gian: 1 giờ\n",
        "\n",
        "\n",
        "\n",
        "\n"
      ]
    },
    {
      "cell_type": "code",
      "execution_count": 2,
      "metadata": {},
      "outputs": [],
      "source": [
        "def tiff_info(tiff_file):\n",
        "        with rasterio.open(tiff_file) as image:\n",
        "                transform = image.transform\n",
        "                crs = image.crs\n",
        "                bounds = image.bounds\n",
        "                width = image.width\n",
        "                height = image.height\n",
        "                band = image.count\n",
        "\n",
        "\n",
        "                pixel_width = transform.a\n",
        "                pixel_height = -transform.e\n",
        "\n",
        "        \n",
        "                top_left_x, top_left_y = transform * (0, 0)  \n",
        "\n",
        "                bottom_right_x, bottom_right_y = transform * (width, height)  \n",
        "\n",
        "                center_x = bounds.left + (bounds.right - bounds.left) / 2\n",
        "                center_y = bounds.bottom + (bounds.top - bounds.bottom) / 2\n",
        "\n",
        "                print(\"THÔNG TIN ẢNH RADAR 0h-01/04/2020:\")\n",
        "                print(f\"- Kích thước ảnh (bands, height, width): ({band}, {height}, {width})\")\n",
        "                print(f\"- Hệ tọa độ CRS: {crs}\")\n",
        "                print(\"Độ phân giải không gian:\")\n",
        "                print(f\"  + Theo chiều ngang (X / Lon): {pixel_width}\")\n",
        "                print(f\"  + Theo chiều dọc (Y / Lat): {pixel_height}\")\n",
        "                print(\"Bounding Box:\")\n",
        "                print(f\"  + Góc trên-trái:    ({bounds.left}, {bounds.top})\")\n",
        "                print(f\"  + Góc dưới-phải:    ({bounds.right}, {bounds.bottom})\")\n",
        "                print(\"Tọa độ tâm ảnh:\")\n",
        "                print(f\"  + ({center_x}, {center_y})\")\n",
        "\n",
        "\n",
        "                \n",
        "                image_array = image.read(1)\n",
        "                show(image_array)"
      ]
    },
    {
      "cell_type": "code",
      "execution_count": 3,
      "metadata": {
        "colab": {
          "base_uri": "https://localhost:8080/",
          "height": 446
        },
        "id": "NSGnCkLwb2ks",
        "outputId": "beeadb2c-52d0-4085-a698-f8a8f86b8909"
      },
      "outputs": [
        {
          "name": "stdout",
          "output_type": "stream",
          "text": [
            "THÔNG TIN ẢNH RADAR 0h-01/04/2020:\n",
            "- Kích thước ảnh (bands, height, width): (1, 90, 250)\n",
            "- Hệ tọa độ CRS: EPSG:4326\n",
            "Độ phân giải không gian:\n",
            "  + Theo chiều ngang (X / Lon): 0.04\n",
            "  + Theo chiều dọc (Y / Lat): 0.04\n",
            "Bounding Box:\n",
            "  + Góc trên-trái:    (101.0, 21.1)\n",
            "  + Góc dưới-phải:    (111.0, 17.5)\n",
            "Tọa độ tâm ảnh:\n",
            "  + (106.0, 19.3)\n"
          ]
        },
        {
          "data": {
            "image/png": "[encoded data removed]",
            "text/plain": [
              "<Figure size 640x480 with 1 Axes>"
            ]
          },
          "metadata": {},
          "output_type": "display_data"
        }
      ],
      "source": [
        "tiff_file = './dataset/2019/04/01/Radar_20190401000000.tif'\n",
        "\n",
        "tiff_info(tiff_file)"
      ]
    },
    {
      "cell_type": "code",
      "execution_count": 4,
      "metadata": {
        "colab": {
          "base_uri": "https://localhost:8080/",
          "height": 446
        },
        "id": "aYRa0WfyWubn",
        "outputId": "acf33426-9e47-4ac6-a0cf-58bf809690f8"
      },
      "outputs": [
        {
          "name": "stdout",
          "output_type": "stream",
          "text": [
            "THÔNG TIN ẢNH RADAR 0h-01/04/2020:\n",
            "- Kích thước ảnh (bands, height, width): (1, 90, 250)\n",
            "- Hệ tọa độ CRS: EPSG:4326\n",
            "Độ phân giải không gian:\n",
            "  + Theo chiều ngang (X / Lon): 0.04\n",
            "  + Theo chiều dọc (Y / Lat): 0.04\n",
            "Bounding Box:\n",
            "  + Góc trên-trái:    (101.0, 21.1)\n",
            "  + Góc dưới-phải:    (111.0, 17.5)\n",
            "Tọa độ tâm ảnh:\n",
            "  + (106.0, 19.3)\n"
          ]
        },
        {
          "data": {
            "image/png": "[encoded data removed]",
            "text/plain": [
              "<Figure size 640x480 with 1 Axes>"
            ]
          },
          "metadata": {},
          "output_type": "display_data"
        }
      ],
      "source": [
        "tiff_file = './dataset/2020/04/01/Radar_20200401000000.tif'\n",
        "\n",
        "tiff_info(tiff_file)\n"
      ]
    },
    {
      "cell_type": "markdown",
      "metadata": {
        "id": "E3vf5dzqYgWX"
      },
      "source": [
        "# Giới hạn không gian:\n",
        "\n",
        "\n",
        "*  Kinh độ: 101 - 111 độ\n",
        "*  Vĩ độ: 21.1 - 17.5 độ\n",
        "\n",
        "\n"
      ]
    },
    {
      "cell_type": "markdown",
      "metadata": {
        "id": "9eZV6EqreS_a"
      },
      "source": [
        "# Kiểm tra dữ liệu bị mất"
      ]
    },
    {
      "cell_type": "code",
      "execution_count": 5,
      "metadata": {},
      "outputs": [],
      "source": [
        "import os\n",
        "from datetime import datetime\n",
        "\n",
        "def missing_data(tiff_dir):\n",
        "    days = []\n",
        "    for root, dirs, files in os.walk(tiff_dir):\n",
        "        if root != tiff_dir:\n",
        "            day = os.path.basename(root)\n",
        "            days.append(day)\n",
        "\n",
        "    # Sắp xếp các ngày\n",
        "    days.sort()\n",
        "\n",
        "    missing_hours = []\n",
        "    missing_days = []\n",
        "    days_with_missing_hours = []\n",
        "\n",
        "    # Kiểm tra số ngày trong tháng\n",
        "    total_days_in_month = 30 if \"04\" in tiff_dir else 31\n",
        "\n",
        "    # Duyệt qua từng ngày\n",
        "    for i in range(1, total_days_in_month + 1):\n",
        "        day_str = f\"{i:02d}\"\n",
        "        if day_str not in days:\n",
        "            missing_days.append(day_str)\n",
        "        else:\n",
        "            day_path = os.path.join(tiff_dir, day_str)\n",
        "            print(f\"Ngày: {day_str}\")\n",
        "\n",
        "            files_with_time = []\n",
        "\n",
        "            for file_name in os.listdir(day_path):\n",
        "                if file_name.startswith('Radar_') and file_name.endswith('.tif'):\n",
        "                    try:\n",
        "                        date_str = file_name.split('_')[1][0:14]  # yyyyMMddhhmmss\n",
        "                        date = datetime.strptime(date_str, '%Y%m%d%H%M%S')\n",
        "                        hour = date.strftime('%H:%M')  # HH:mm\n",
        "                        files_with_time.append((file_name, hour))\n",
        "                    except Exception as e:\n",
        "                        print(f\"Lỗi khi xử lý tệp {file_name}: {e}\")\n",
        "\n",
        "            files_with_time.sort(key=lambda x: datetime.strptime(x[1], '%H:%M'))\n",
        "\n",
        "            existing_hours = {hour for _, hour in files_with_time}\n",
        "            all_hours = {f\"{str(h).zfill(2)}:00\" for h in range(24)}\n",
        "\n",
        "            missing = all_hours - existing_hours\n",
        "\n",
        "            if missing:\n",
        "                print(f\"  Thiếu các giờ sau:\")\n",
        "                for hour in sorted(missing):\n",
        "                    missing_hours.append(f\"{day_str} {hour}\")\n",
        "                    print(f\"    {hour}\")\n",
        "                days_with_missing_hours.append(day_str)\n",
        "            else:\n",
        "                print(\"  Không thiếu giờ nào trong ngày.\")\n",
        "\n",
        "    if missing_days:\n",
        "        print(\"\\nCác ngày thiếu hoàn toàn trong tháng:\")\n",
        "        for missing_day in missing_days:\n",
        "            print(f\"  Ngày: {missing_day}\")\n",
        "    else:\n",
        "        print(\"\\nKhông thiếu ngày nào trong tháng.\")\n",
        "\n",
        "    if days_with_missing_hours:\n",
        "        print(\"\\nCác ngày bị thiếu một số giờ:\")\n",
        "        for d in days_with_missing_hours:\n",
        "            print(f\"  Ngày: {d}\")\n",
        "    else:\n",
        "        print(\"\\nKhông có ngày nào bị thiếu giờ.\")\n",
        "\n",
        "  \n"
      ]
    },
    {
      "cell_type": "code",
      "execution_count": 6,
      "metadata": {
        "colab": {
          "base_uri": "https://localhost:8080/"
        },
        "id": "e2yBI5xKmqhZ",
        "outputId": "4937f231-af59-4b37-e1d3-07236d0000d4"
      },
      "outputs": [
        {
          "name": "stdout",
          "output_type": "stream",
          "text": [
            "Ngày: 01\n",
            "  Không thiếu giờ nào trong ngày.\n",
            "Ngày: 02\n",
            "  Không thiếu giờ nào trong ngày.\n",
            "Ngày: 03\n",
            "  Không thiếu giờ nào trong ngày.\n",
            "Ngày: 04\n",
            "  Không thiếu giờ nào trong ngày.\n",
            "Ngày: 05\n",
            "  Không thiếu giờ nào trong ngày.\n",
            "Ngày: 06\n",
            "  Không thiếu giờ nào trong ngày.\n",
            "Ngày: 07\n",
            "  Không thiếu giờ nào trong ngày.\n",
            "Ngày: 08\n",
            "  Không thiếu giờ nào trong ngày.\n",
            "Ngày: 09\n",
            "  Không thiếu giờ nào trong ngày.\n",
            "Ngày: 10\n",
            "  Không thiếu giờ nào trong ngày.\n",
            "Ngày: 11\n",
            "  Không thiếu giờ nào trong ngày.\n",
            "Ngày: 12\n",
            "  Không thiếu giờ nào trong ngày.\n",
            "Ngày: 13\n",
            "  Không thiếu giờ nào trong ngày.\n",
            "Ngày: 14\n",
            "  Không thiếu giờ nào trong ngày.\n",
            "Ngày: 15\n",
            "  Không thiếu giờ nào trong ngày.\n",
            "Ngày: 16\n",
            "  Không thiếu giờ nào trong ngày.\n",
            "Ngày: 17\n",
            "  Không thiếu giờ nào trong ngày.\n",
            "Ngày: 18\n",
            "  Không thiếu giờ nào trong ngày.\n",
            "Ngày: 19\n",
            "  Không thiếu giờ nào trong ngày.\n",
            "Ngày: 20\n",
            "  Không thiếu giờ nào trong ngày.\n",
            "Ngày: 21\n",
            "  Không thiếu giờ nào trong ngày.\n",
            "Ngày: 22\n",
            "  Không thiếu giờ nào trong ngày.\n",
            "Ngày: 23\n",
            "  Không thiếu giờ nào trong ngày.\n",
            "Ngày: 24\n",
            "  Không thiếu giờ nào trong ngày.\n",
            "Ngày: 25\n",
            "  Không thiếu giờ nào trong ngày.\n",
            "Ngày: 26\n",
            "  Không thiếu giờ nào trong ngày.\n",
            "Ngày: 27\n",
            "  Không thiếu giờ nào trong ngày.\n",
            "Ngày: 28\n",
            "  Không thiếu giờ nào trong ngày.\n",
            "Ngày: 29\n",
            "  Không thiếu giờ nào trong ngày.\n",
            "Ngày: 30\n",
            "  Không thiếu giờ nào trong ngày.\n",
            "\n",
            "Không thiếu ngày nào trong tháng.\n",
            "\n",
            "Không có ngày nào bị thiếu giờ.\n"
          ]
        }
      ],
      "source": [
        "tiff_dir = './dataset/2019/04'\n",
        "missing_data(tiff_dir)\n"
      ]
    },
    {
      "cell_type": "markdown",
      "metadata": {},
      "source": [
        "Dữ liệu trong tháng 4 năm 2019 đầy đủ"
      ]
    },
    {
      "cell_type": "code",
      "execution_count": 7,
      "metadata": {
        "colab": {
          "base_uri": "https://localhost:8080/"
        },
        "id": "l2G8m9E5ffpx",
        "outputId": "5d2f8234-c370-4210-db80-f8ad6b77a82a"
      },
      "outputs": [
        {
          "name": "stdout",
          "output_type": "stream",
          "text": [
            "Ngày: 01\n",
            "  Không thiếu giờ nào trong ngày.\n",
            "Ngày: 02\n",
            "  Không thiếu giờ nào trong ngày.\n",
            "Ngày: 03\n",
            "  Không thiếu giờ nào trong ngày.\n",
            "Ngày: 04\n",
            "  Thiếu các giờ sau:\n",
            "    09:00\n",
            "    10:00\n",
            "    11:00\n",
            "    12:00\n",
            "    13:00\n",
            "    14:00\n",
            "    15:00\n",
            "    16:00\n",
            "    17:00\n",
            "    18:00\n",
            "    19:00\n",
            "    20:00\n",
            "    21:00\n",
            "    22:00\n",
            "    23:00\n",
            "Ngày: 08\n",
            "  Thiếu các giờ sau:\n",
            "    00:00\n",
            "    01:00\n",
            "    02:00\n",
            "    03:00\n",
            "    20:00\n",
            "    21:00\n",
            "    22:00\n",
            "    23:00\n",
            "Ngày: 10\n",
            "  Thiếu các giờ sau:\n",
            "    00:00\n",
            "    01:00\n",
            "    02:00\n",
            "    03:00\n",
            "    04:00\n",
            "    05:00\n",
            "    06:00\n",
            "    07:00\n",
            "    08:00\n",
            "Ngày: 11\n",
            "  Không thiếu giờ nào trong ngày.\n",
            "Ngày: 12\n",
            "  Không thiếu giờ nào trong ngày.\n",
            "Ngày: 13\n",
            "  Không thiếu giờ nào trong ngày.\n",
            "Ngày: 14\n",
            "  Không thiếu giờ nào trong ngày.\n",
            "Ngày: 15\n",
            "  Thiếu các giờ sau:\n",
            "    13:00\n",
            "    16:00\n",
            "    18:00\n",
            "    19:00\n",
            "    20:00\n",
            "    21:00\n",
            "Ngày: 16\n",
            "  Thiếu các giờ sau:\n",
            "    02:00\n",
            "    03:00\n",
            "    04:00\n",
            "    05:00\n",
            "    18:00\n",
            "    20:00\n",
            "    21:00\n",
            "    22:00\n",
            "    23:00\n",
            "Ngày: 17\n",
            "  Thiếu các giờ sau:\n",
            "    00:00\n",
            "    01:00\n",
            "    18:00\n",
            "    19:00\n",
            "    20:00\n",
            "    21:00\n",
            "    22:00\n",
            "    23:00\n",
            "Ngày: 18\n",
            "  Thiếu các giờ sau:\n",
            "    00:00\n",
            "    01:00\n",
            "    02:00\n",
            "    03:00\n",
            "    18:00\n",
            "    19:00\n",
            "    20:00\n",
            "    21:00\n",
            "    22:00\n",
            "    23:00\n",
            "Ngày: 19\n",
            "  Thiếu các giờ sau:\n",
            "    00:00\n",
            "    18:00\n",
            "    19:00\n",
            "    20:00\n",
            "    21:00\n",
            "    22:00\n",
            "    23:00\n",
            "Ngày: 20\n",
            "  Thiếu các giờ sau:\n",
            "    00:00\n",
            "    01:00\n",
            "    02:00\n",
            "    03:00\n",
            "    04:00\n",
            "    05:00\n",
            "    06:00\n",
            "    07:00\n",
            "    08:00\n",
            "    09:00\n",
            "    11:00\n",
            "    12:00\n",
            "    13:00\n",
            "    14:00\n",
            "    15:00\n",
            "    16:00\n",
            "    17:00\n",
            "    18:00\n",
            "    19:00\n",
            "    20:00\n",
            "    21:00\n",
            "    22:00\n",
            "    23:00\n",
            "Ngày: 22\n",
            "  Không thiếu giờ nào trong ngày.\n",
            "Ngày: 23\n",
            "  Thiếu các giờ sau:\n",
            "    18:00\n",
            "    19:00\n",
            "    20:00\n",
            "    21:00\n",
            "    22:00\n",
            "Ngày: 24\n",
            "  Không thiếu giờ nào trong ngày.\n",
            "Ngày: 25\n",
            "  Không thiếu giờ nào trong ngày.\n",
            "Ngày: 26\n",
            "  Thiếu các giờ sau:\n",
            "    19:00\n",
            "    20:00\n",
            "    21:00\n",
            "    22:00\n",
            "    23:00\n",
            "Ngày: 27\n",
            "  Thiếu các giờ sau:\n",
            "    00:00\n",
            "    01:00\n",
            "    02:00\n",
            "    03:00\n",
            "    04:00\n",
            "    05:00\n",
            "    06:00\n",
            "    07:00\n",
            "    08:00\n",
            "    09:00\n",
            "    19:00\n",
            "    21:00\n",
            "    22:00\n",
            "Ngày: 28\n",
            "  Không thiếu giờ nào trong ngày.\n",
            "Ngày: 29\n",
            "  Thiếu các giờ sau:\n",
            "    08:00\n",
            "    14:00\n",
            "    18:00\n",
            "    19:00\n",
            "    20:00\n",
            "    21:00\n",
            "    22:00\n",
            "    23:00\n",
            "Ngày: 30\n",
            "  Thiếu các giờ sau:\n",
            "    00:00\n",
            "Ngày: 31\n",
            "  Không thiếu giờ nào trong ngày.\n",
            "\n",
            "Các ngày thiếu hoàn toàn trong tháng:\n",
            "  Ngày: 05\n",
            "  Ngày: 06\n",
            "  Ngày: 07\n",
            "  Ngày: 09\n",
            "  Ngày: 21\n",
            "\n",
            "Các ngày bị thiếu một số giờ:\n",
            "  Ngày: 04\n",
            "  Ngày: 08\n",
            "  Ngày: 10\n",
            "  Ngày: 15\n",
            "  Ngày: 16\n",
            "  Ngày: 17\n",
            "  Ngày: 18\n",
            "  Ngày: 19\n",
            "  Ngày: 20\n",
            "  Ngày: 23\n",
            "  Ngày: 26\n",
            "  Ngày: 27\n",
            "  Ngày: 29\n",
            "  Ngày: 30\n"
          ]
        }
      ],
      "source": [
        "tiff_dir = './dataset/2019/10'\n",
        "missing_data(tiff_dir)\n"
      ]
    },
    {
      "cell_type": "markdown",
      "metadata": {},
      "source": [
        "Dữ liệu trong tháng 10 năm 2019 bị thiếu mất 5 ngày và có 1 vài ngày bị thiếu khá nhiều khoảng thời gian trong ngày như ngày 4, 8, 10, 15, 16, 17 ,18 ,19, 20, 23, 26 ,27, 29, 30 "
      ]
    },
    {
      "cell_type": "code",
      "execution_count": 8,
      "metadata": {
        "colab": {
          "base_uri": "https://localhost:8080/"
        },
        "id": "pjcxmpM2gS2P",
        "outputId": "10a75fae-cb73-420f-98c3-02e7fab60535"
      },
      "outputs": [
        {
          "name": "stdout",
          "output_type": "stream",
          "text": [
            "Ngày: 01\n",
            "  Không thiếu giờ nào trong ngày.\n",
            "Ngày: 02\n",
            "  Không thiếu giờ nào trong ngày.\n",
            "Ngày: 03\n",
            "  Không thiếu giờ nào trong ngày.\n",
            "Ngày: 04\n",
            "  Không thiếu giờ nào trong ngày.\n",
            "Ngày: 05\n",
            "  Không thiếu giờ nào trong ngày.\n",
            "Ngày: 06\n",
            "  Không thiếu giờ nào trong ngày.\n",
            "Ngày: 07\n",
            "  Không thiếu giờ nào trong ngày.\n",
            "Ngày: 08\n",
            "  Không thiếu giờ nào trong ngày.\n",
            "Ngày: 09\n",
            "  Không thiếu giờ nào trong ngày.\n",
            "Ngày: 10\n",
            "  Không thiếu giờ nào trong ngày.\n",
            "Ngày: 11\n",
            "  Không thiếu giờ nào trong ngày.\n",
            "Ngày: 12\n",
            "  Không thiếu giờ nào trong ngày.\n",
            "Ngày: 13\n",
            "  Không thiếu giờ nào trong ngày.\n",
            "Ngày: 14\n",
            "  Không thiếu giờ nào trong ngày.\n",
            "Ngày: 15\n",
            "  Không thiếu giờ nào trong ngày.\n",
            "Ngày: 16\n",
            "  Không thiếu giờ nào trong ngày.\n",
            "Ngày: 17\n",
            "  Không thiếu giờ nào trong ngày.\n",
            "Ngày: 18\n",
            "  Không thiếu giờ nào trong ngày.\n",
            "Ngày: 19\n",
            "  Không thiếu giờ nào trong ngày.\n",
            "Ngày: 20\n",
            "  Không thiếu giờ nào trong ngày.\n",
            "Ngày: 21\n",
            "  Không thiếu giờ nào trong ngày.\n",
            "Ngày: 22\n",
            "  Không thiếu giờ nào trong ngày.\n",
            "Ngày: 23\n",
            "  Thiếu các giờ sau:\n",
            "    18:00\n",
            "    19:00\n",
            "    20:00\n",
            "    21:00\n",
            "    22:00\n",
            "    23:00\n",
            "\n",
            "Các ngày thiếu hoàn toàn trong tháng:\n",
            "  Ngày: 24\n",
            "  Ngày: 25\n",
            "  Ngày: 26\n",
            "  Ngày: 27\n",
            "  Ngày: 28\n",
            "  Ngày: 29\n",
            "  Ngày: 30\n",
            "\n",
            "Các ngày bị thiếu một số giờ:\n",
            "  Ngày: 23\n"
          ]
        }
      ],
      "source": [
        "tiff_dir = './dataset/2020/04'\n",
        "missing_data(tiff_dir)\n"
      ]
    },
    {
      "cell_type": "markdown",
      "metadata": {},
      "source": [
        "Dữ liệu trong tháng 4 năm 2020 bị thiếu mất 7 ngày cuối tháng và thiếu 6 tiếng cuối ngày 23"
      ]
    },
    {
      "cell_type": "code",
      "execution_count": 9,
      "metadata": {
        "colab": {
          "base_uri": "https://localhost:8080/"
        },
        "id": "KMYVHd_ugH9-",
        "outputId": "9cb8064c-a1f2-48c4-ee5a-89194f3c472b"
      },
      "outputs": [
        {
          "name": "stdout",
          "output_type": "stream",
          "text": [
            "Ngày: 01\n",
            "  Không thiếu giờ nào trong ngày.\n",
            "Ngày: 02\n",
            "  Thiếu các giờ sau:\n",
            "    03:00\n",
            "    06:00\n",
            "    08:00\n",
            "Ngày: 03\n",
            "  Không thiếu giờ nào trong ngày.\n",
            "Ngày: 04\n",
            "  Không thiếu giờ nào trong ngày.\n",
            "Ngày: 05\n",
            "  Không thiếu giờ nào trong ngày.\n",
            "Ngày: 06\n",
            "  Không thiếu giờ nào trong ngày.\n",
            "Ngày: 07\n",
            "  Không thiếu giờ nào trong ngày.\n",
            "Ngày: 08\n",
            "  Không thiếu giờ nào trong ngày.\n",
            "Ngày: 09\n",
            "  Không thiếu giờ nào trong ngày.\n",
            "Ngày: 10\n",
            "  Không thiếu giờ nào trong ngày.\n",
            "Ngày: 11\n",
            "  Không thiếu giờ nào trong ngày.\n",
            "Ngày: 12\n",
            "  Không thiếu giờ nào trong ngày.\n",
            "Ngày: 13\n",
            "  Không thiếu giờ nào trong ngày.\n",
            "Ngày: 14\n",
            "  Không thiếu giờ nào trong ngày.\n",
            "Ngày: 15\n",
            "  Không thiếu giờ nào trong ngày.\n",
            "Ngày: 16\n",
            "  Không thiếu giờ nào trong ngày.\n",
            "Ngày: 17\n",
            "  Không thiếu giờ nào trong ngày.\n",
            "Ngày: 18\n",
            "  Không thiếu giờ nào trong ngày.\n",
            "Ngày: 19\n",
            "  Không thiếu giờ nào trong ngày.\n",
            "Ngày: 20\n",
            "  Thiếu các giờ sau:\n",
            "    08:00\n",
            "Ngày: 21\n",
            "  Không thiếu giờ nào trong ngày.\n",
            "Ngày: 22\n",
            "  Không thiếu giờ nào trong ngày.\n",
            "Ngày: 23\n",
            "  Thiếu các giờ sau:\n",
            "    01:00\n",
            "    08:00\n",
            "Ngày: 24\n",
            "  Không thiếu giờ nào trong ngày.\n",
            "Ngày: 25\n",
            "  Không thiếu giờ nào trong ngày.\n",
            "Ngày: 26\n",
            "  Thiếu các giờ sau:\n",
            "    00:00\n",
            "    07:00\n",
            "Ngày: 27\n",
            "  Thiếu các giờ sau:\n",
            "    08:00\n",
            "    14:00\n",
            "    15:00\n",
            "    16:00\n",
            "    17:00\n",
            "    20:00\n",
            "    21:00\n",
            "    22:00\n",
            "    23:00\n",
            "Ngày: 28\n",
            "  Thiếu các giờ sau:\n",
            "    00:00\n",
            "    06:00\n",
            "Ngày: 29\n",
            "  Thiếu các giờ sau:\n",
            "    00:00\n",
            "Ngày: 30\n",
            "  Không thiếu giờ nào trong ngày.\n",
            "Ngày: 31\n",
            "  Không thiếu giờ nào trong ngày.\n",
            "\n",
            "Không thiếu ngày nào trong tháng.\n",
            "\n",
            "Các ngày bị thiếu một số giờ:\n",
            "  Ngày: 02\n",
            "  Ngày: 20\n",
            "  Ngày: 23\n",
            "  Ngày: 26\n",
            "  Ngày: 27\n",
            "  Ngày: 28\n",
            "  Ngày: 29\n"
          ]
        }
      ],
      "source": [
        "tiff_dir = './dataset/2020/10'\n",
        "missing_data(tiff_dir)\n"
      ]
    },
    {
      "cell_type": "markdown",
      "metadata": {},
      "source": [
        "Dữ liệu trong tháng 10 năm 2020 không thiếu ngày nào và thiếu ít giờ trong ngày 2 ,20 , 23, 26, 27 28 , 29"
      ]
    },
    {
      "cell_type": "markdown",
      "metadata": {
        "id": "pcN7u8pFizMU"
      },
      "source": [
        "# **Nhận xét**\n",
        "\n",
        "\n",
        "*  Có nhiều thời điểm bị mất dữ liệu, như tháng 10 năm 2020 bị mất nhiều ngày, tháng 10 năm 2019 bị mất nhiều giờ trong ngày\n",
        "\n"
      ]
    },
    {
      "cell_type": "markdown",
      "metadata": {
        "id": "LJm4cTB2gko_"
      },
      "source": [
        "# Xử lí dữ liệu ảnh"
      ]
    },
    {
      "cell_type": "markdown",
      "metadata": {},
      "source": []
    },
    {
      "cell_type": "code",
      "execution_count": 10,
      "metadata": {},
      "outputs": [],
      "source": [
        "def image_value(tiff):\n",
        "    with rasterio.open(tiff) as image:\n",
        "        image_array = image.read(1)\n",
        "        num_neg_inf = np.sum(image_array == -np.inf)\n",
        "        total_elements = image_array.size\n",
        "        percentage_neg_inf = (num_neg_inf / total_elements) * 100\n",
        "        print(f\"Tỷ lệ phần trăm giá trị -inf: {percentage_neg_inf:.2f}%\")\n",
        "\n",
        "        image_array[image_array == -np.inf] = np.nan\n",
        "        min_val = np.nanmin(image_array)\n",
        "        max_val = np.nanmax(image_array)\n",
        "        mean_val = np.nanmean(image_array)\n",
        "        median_val = np.nanmedian(image_array)\n",
        "\n",
        "        print(f\"\\nThông tin giá trị ảnh (không tính -inf):\")\n",
        "        print(f\"  + Giá trị nhỏ nhất: {min_val}\")\n",
        "        print(f\"  + Giá trị lớn nhất: {max_val}\")\n",
        "        print(f\"  + Giá trị trung bình: {mean_val}\")\n",
        "        print(f\"  + Giá trị trung vị: {mean_val}\")\n",
        "\n",
        "        show(image_array)"
      ]
    },
    {
      "cell_type": "code",
      "execution_count": 11,
      "metadata": {
        "colab": {
          "base_uri": "https://localhost:8080/",
          "height": 354
        },
        "id": "ZsQS7yfC_Ls2",
        "outputId": "2d7f4fb9-7937-4f63-ca18-86951649aee6"
      },
      "outputs": [
        {
          "name": "stdout",
          "output_type": "stream",
          "text": [
            "Tỷ lệ phần trăm giá trị -inf: 28.45%\n",
            "\n",
            "Thông tin giá trị ảnh (không tính -inf):\n",
            "  + Giá trị nhỏ nhất: 0.0\n",
            "  + Giá trị lớn nhất: 67.3125\n",
            "  + Giá trị trung bình: 0.1202249750494957\n",
            "  + Giá trị trung vị: 0.1202249750494957\n"
          ]
        },
        {
          "data": {
            "image/png": "[encoded data removed]",
            "text/plain": [
              "<Figure size 640x480 with 1 Axes>"
            ]
          },
          "metadata": {},
          "output_type": "display_data"
        }
      ],
      "source": [
        "tiff_2019 = './dataset/2019/04/01/Radar_20190401000000.tif'\n",
        "image_value(tiff_2019)\n"
      ]
    },
    {
      "cell_type": "code",
      "execution_count": 12,
      "metadata": {
        "colab": {
          "base_uri": "https://localhost:8080/",
          "height": 354
        },
        "id": "RcZ5HnlYhEnU",
        "outputId": "ccc095c1-a4cc-4fc5-cad7-e3c79036fe6c"
      },
      "outputs": [
        {
          "name": "stdout",
          "output_type": "stream",
          "text": [
            "Tỷ lệ phần trăm giá trị -inf: 28.63%\n",
            "\n",
            "Thông tin giá trị ảnh (không tính -inf):\n",
            "  + Giá trị nhỏ nhất: 0.0\n",
            "  + Giá trị lớn nhất: 0.02500000037252903\n",
            "  + Giá trị trung bình: 5.837847766088089e-06\n",
            "  + Giá trị trung vị: 5.837847766088089e-06\n"
          ]
        },
        {
          "data": {
            "image/png": "[encoded data removed]",
            "text/plain": [
              "<Figure size 640x480 with 1 Axes>"
            ]
          },
          "metadata": {},
          "output_type": "display_data"
        }
      ],
      "source": [
        "tiff_2020 = './dataset/2020/04/01/Radar_20200401000000.tif'\n",
        "image_value(tiff_2020)"
      ]
    },
    {
      "cell_type": "markdown",
      "metadata": {
        "id": "OA3tnEP0h4R9"
      },
      "source": [
        "# **Nhận xét**\n",
        "\n",
        "*   Do phạm vi hoạt động của Radar có giới hạn nên ảnh Radar sẽ có những vùng\n",
        "trắng có giá trị -inf.\n",
        "*   Những ảnh radar trong cùng 1 năm bị khuyết giống nhau\n",
        "*   Có sự khác nhau trong khoảng trắng của năm 2019 và 2020\n",
        "*   Sử dụng nội suy lân cận để fill lại khoảng trắng\n",
        "\n"
      ]
    },
    {
      "cell_type": "code",
      "execution_count": 13,
      "metadata": {},
      "outputs": [],
      "source": [
        "def calculate_rainfall(tiff_dir):\n",
        "    days = []\n",
        "    daily_rainfall = {}  \n",
        "    \n",
        "    for root, dirs, files in os.walk(tiff_dir):\n",
        "        if root != tiff_dir:\n",
        "            day = os.path.basename(root)\n",
        "            days.append(day)\n",
        "\n",
        "    # Sắp xếp các ngày\n",
        "    days.sort()\n",
        "\n",
        "\n",
        "    total_days_in_month = 30 if \"04\" in tiff_dir else 31\n",
        "\n",
        "    # Duyệt qua từng ngày\n",
        "    for i in range(1, total_days_in_month + 1):\n",
        "        day_str = f\"{i:02d}\"\n",
        "        if day_str in days:\n",
        "            day_path = os.path.join(tiff_dir, day_str)\n",
        "\n",
        "            total_rain_for_day = 0  \n",
        "\n",
        "            for file_name in os.listdir(day_path):\n",
        "                if file_name.startswith('Radar_') and file_name.endswith('.tif'):\n",
        "                    try:\n",
        "                        \n",
        "                        date_str = file_name.split('_')[1][0:14]  # yyyyMMddHHmmss\n",
        "                        date = datetime.strptime(date_str, '%Y%m%d%H%M%S')\n",
        "\n",
        "                      \n",
        "                        tiff_path = os.path.join(day_path, file_name)\n",
        "                        with rasterio.open(tiff_path) as src:\n",
        "                            data = src.read(1)  \n",
        "                            data = np.nan_to_num(data, nan=0, neginf=0)\n",
        "\n",
        "                            total_rain_for_day += np.sum(data)\n",
        "\n",
        "                    except Exception as e:\n",
        "                        print(f\"Lỗi khi xử lý tệp {file_name}: {e}\")\n",
        "\n",
        "          \n",
        "            daily_rainfall[day_str] = total_rain_for_day\n",
        "            \n",
        " \n",
        "    total_rain_in_month = sum(daily_rainfall.values())\n",
        "    print(f\"Tổng lượng mưa trong tháng: {total_rain_in_month:.2f} mm\")\n",
        "\n",
        "\n",
        "    plt.figure(figsize=(10, 6))\n",
        "    days_sorted = sorted(daily_rainfall.keys())  \n",
        "    rainfall_values = [daily_rainfall[day] for day in days_sorted]\n",
        "\n",
        "    plt.bar(days_sorted, rainfall_values)\n",
        "    plt.xlabel('Ngày')\n",
        "    plt.ylabel('Tổng lượng mưa (mm)')\n",
        "\n",
        "\n",
        "    plt.tight_layout()\n",
        "    plt.show()\n",
        "    return daily_rainfall\n",
        "\n",
        "\n",
        "\n",
        "\n",
        "\n"
      ]
    },
    {
      "cell_type": "markdown",
      "metadata": {},
      "source": [
        "# Lượng mưa\n"
      ]
    },
    {
      "cell_type": "markdown",
      "metadata": {},
      "source": [
        "Tháng 4/2019"
      ]
    },
    {
      "cell_type": "code",
      "execution_count": 14,
      "metadata": {},
      "outputs": [
        {
          "name": "stdout",
          "output_type": "stream",
          "text": [
            "Tổng lượng mưa trong tháng: 507091.01 mm\n"
          ]
        },
        {
          "data": {
            "image/png": "[encoded data removed]",
            "text/plain": [
              "<Figure size 1000x600 with 1 Axes>"
            ]
          },
          "metadata": {},
          "output_type": "display_data"
        },
        {
          "data": {
            "text/plain": [
              "{'01': 46650.07294464111,\n",
              " '02': 1993.931234427262,\n",
              " '03': 5373.805045127869,\n",
              " '04': 11904.218307495117,\n",
              " '05': 0.0,\n",
              " '06': 0.0,\n",
              " '07': 3617.5736694335938,\n",
              " '08': 2222.526210308075,\n",
              " '09': 4015.899371338077,\n",
              " '10': 98251.666215837,\n",
              " '11': 8919.809743881226,\n",
              " '12': 74701.606680464,\n",
              " '13': 5285.286816716194,\n",
              " '14': 58113.61658859253,\n",
              " '15': 31777.26099510491,\n",
              " '16': 4747.326833799481,\n",
              " '17': 2355.197655275464,\n",
              " '18': 1168.3825063705444,\n",
              " '19': 0.6181249916553497,\n",
              " '20': 1.228749930858612,\n",
              " '21': 40692.23905105144,\n",
              " '22': 13859.748634338379,\n",
              " '23': 13094.599401473999,\n",
              " '24': 865.5987377138808,\n",
              " '25': 3606.3293430805206,\n",
              " '26': 36640.7427219362,\n",
              " '27': 15161.616694610566,\n",
              " '28': 1856.0930569171906,\n",
              " '29': 3297.0219235420227,\n",
              " '30': 16916.996052712202}"
            ]
          },
          "execution_count": 14,
          "metadata": {},
          "output_type": "execute_result"
        }
      ],
      "source": [
        "tiff_dir = './dataset/2019/04'\n",
        "\n",
        "calculate_rainfall(tiff_dir)"
      ]
    },
    {
      "cell_type": "markdown",
      "metadata": {},
      "source": [
        "Tháng 10/2019"
      ]
    },
    {
      "cell_type": "code",
      "execution_count": 15,
      "metadata": {},
      "outputs": [
        {
          "name": "stdout",
          "output_type": "stream",
          "text": [
            "Tổng lượng mưa trong tháng: 1414652.45 mm\n"
          ]
        },
        {
          "data": {
            "image/png": "[encoded data removed]",
            "text/plain": [
              "<Figure size 1000x600 with 1 Axes>"
            ]
          },
          "metadata": {},
          "output_type": "display_data"
        },
        {
          "data": {
            "text/plain": [
              "{'01': 3019.4251920701936,\n",
              " '02': 85440.2074381113,\n",
              " '03': 71061.89846801758,\n",
              " '04': 127751.33264160156,\n",
              " '08': 0.0,\n",
              " '10': 20917.70668029785,\n",
              " '11': 33433.70203399658,\n",
              " '12': 73259.55487060547,\n",
              " '13': 51027.07962036133,\n",
              " '14': 172394.9912109375,\n",
              " '15': 126613.50048828125,\n",
              " '16': 38286.16589355469,\n",
              " '17': 20572.610565185547,\n",
              " '18': 27086.369110107422,\n",
              " '19': 44260.103744506836,\n",
              " '20': 123.09811401367188,\n",
              " '22': 2605.414371728897,\n",
              " '23': 22552.524944365025,\n",
              " '24': 108428.13659667969,\n",
              " '25': 37018.805809020996,\n",
              " '26': 62169.662353515625,\n",
              " '27': 2362.6699981689453,\n",
              " '28': 61388.03106689453,\n",
              " '29': 5879.509222507477,\n",
              " '30': 48060.184034600854,\n",
              " '31': 168939.76347351074}"
            ]
          },
          "execution_count": 15,
          "metadata": {},
          "output_type": "execute_result"
        }
      ],
      "source": [
        "tiff_dir = './dataset/2019/10'\n",
        "\n",
        "calculate_rainfall(tiff_dir)"
      ]
    },
    {
      "cell_type": "markdown",
      "metadata": {},
      "source": [
        "Tháng 04/2020\n"
      ]
    },
    {
      "cell_type": "code",
      "execution_count": 16,
      "metadata": {},
      "outputs": [
        {
          "name": "stdout",
          "output_type": "stream",
          "text": [
            "Tổng lượng mưa trong tháng: 393108.06 mm\n"
          ]
        },
        {
          "data": {
            "image/png": "[encoded data removed]",
            "text/plain": [
              "<Figure size 1000x600 with 1 Axes>"
            ]
          },
          "metadata": {},
          "output_type": "display_data"
        },
        {
          "data": {
            "text/plain": [
              "{'01': 983.234995670151,\n",
              " '02': 2465.043694615364,\n",
              " '03': 15264.406551122665,\n",
              " '04': 53979.773750305176,\n",
              " '05': 9856.287395477295,\n",
              " '06': 17573.19478213787,\n",
              " '07': 27719.510013002902,\n",
              " '08': 17381.25753068924,\n",
              " '09': 4453.135305047035,\n",
              " '10': 3527.317047595978,\n",
              " '11': 8014.279174536467,\n",
              " '12': 103427.62823486328,\n",
              " '13': 7460.51066181669,\n",
              " '14': 274.6656297966838,\n",
              " '15': 1204.7404534369707,\n",
              " '16': 1143.85267496109,\n",
              " '17': 14839.233292371035,\n",
              " '18': 2535.537979528308,\n",
              " '19': 3353.0300339758396,\n",
              " '20': 9023.6579682827,\n",
              " '21': 18073.626339673996,\n",
              " '22': 52855.76937866211,\n",
              " '23': 17698.365531921387}"
            ]
          },
          "execution_count": 16,
          "metadata": {},
          "output_type": "execute_result"
        }
      ],
      "source": [
        "tiff_dir = './dataset/2020/04'\n",
        "\n",
        "calculate_rainfall(tiff_dir)"
      ]
    },
    {
      "cell_type": "markdown",
      "metadata": {},
      "source": [
        "Tháng 10/2020\n"
      ]
    },
    {
      "cell_type": "code",
      "execution_count": 17,
      "metadata": {},
      "outputs": [
        {
          "name": "stdout",
          "output_type": "stream",
          "text": [
            "Tổng lượng mưa trong tháng: 4319307.80 mm\n"
          ]
        },
        {
          "data": {
            "image/png": "[encoded data removed]",
            "text/plain": [
              "<Figure size 1000x600 with 1 Axes>"
            ]
          },
          "metadata": {},
          "output_type": "display_data"
        },
        {
          "data": {
            "text/plain": [
              "{'01': 87937.31127929688,\n",
              " '02': 65585.33966064453,\n",
              " '03': 128266.8296508789,\n",
              " '04': 61727.71694946289,\n",
              " '05': 114527.35021972656,\n",
              " '06': 130249.25512695312,\n",
              " '07': 157521.2646484375,\n",
              " '08': 119512.89147949219,\n",
              " '09': 14599.47817993164,\n",
              " '10': 28597.93087387085,\n",
              " '11': 126047.35925292969,\n",
              " '12': 69668.03192901611,\n",
              " '13': 81970.6226196289,\n",
              " '14': 274364.81396484375,\n",
              " '15': 504694.2099609375,\n",
              " '16': 190427.76440429688,\n",
              " '17': 187599.3984375,\n",
              " '18': 606681.2470703125,\n",
              " '19': 367788.1633300781,\n",
              " '20': 16542.87490081787,\n",
              " '21': 2722.2537412047386,\n",
              " '22': 1809.9575296342373,\n",
              " '23': 2903.601836748421,\n",
              " '24': 24210.394298791885,\n",
              " '25': 42349.56433105469,\n",
              " '26': 56359.72332763672,\n",
              " '27': 9471.216947555542,\n",
              " '28': 235167.26293945312,\n",
              " '29': 386854.48388671875,\n",
              " '30': 188339.36737060547,\n",
              " '31': 34810.11534881592}"
            ]
          },
          "execution_count": 17,
          "metadata": {},
          "output_type": "execute_result"
        }
      ],
      "source": [
        "tiff_dir = './dataset/2020/10'\n",
        "\n",
        "calculate_rainfall(tiff_dir)"
      ]
    },
    {
      "cell_type": "markdown",
      "metadata": {},
      "source": [
        "So sánh tổng lượng mưa"
      ]
    },
    {
      "cell_type": "code",
      "execution_count": 18,
      "metadata": {},
      "outputs": [
        {
          "data": {
            "image/png": "[encoded data removed]",
            "text/plain": [
              "<Figure size 800x500 with 1 Axes>"
            ]
          },
          "metadata": {},
          "output_type": "display_data"
        }
      ],
      "source": [
        "\n",
        "values = [507091.01, 1414652.45, 393108.06, 4319307.80]\n",
        "labels = ['04/2019', '10/2019', '04/2020', '10/2020']  # Bạn có thể thay bằng tên tương ứng\n",
        "\n",
        "# Vẽ biểu đồ cột\n",
        "plt.figure(figsize=(8, 5))\n",
        "bars = plt.bar(labels, values, color='skyblue')\n",
        "\n",
        "# Thêm nhãn số trên đầu cột\n",
        "for bar in bars:\n",
        "    yval = bar.get_height()\n",
        "    plt.text(bar.get_x() + bar.get_width()/2, yval + 50000, f'{yval:,.0f}', \n",
        "             ha='center', va='bottom', fontsize=10)\n",
        "\n",
        "# Tùy chỉnh trục\n",
        "plt.ylabel('Lượng mưa (mm)', fontsize=12)\n",
        "plt.title('So sánh lượng mưa', fontsize=14)\n",
        "plt.tight_layout()\n",
        "plt.show()\n"
      ]
    },
    {
      "cell_type": "markdown",
      "metadata": {},
      "source": [
        "# **Nhận xét**\n",
        "\n",
        "*   Tháng 10 thường có xu hướng mưa nhiều hơn tháng 4 trong năm\n",
        "*   Dù có những ngày bị thiếu mất 1 khoảng thời gian trong ngày nhưng lượng mưa trong ngày vẫn tương đối\n",
        "\n"
      ]
    },
    {
      "cell_type": "markdown",
      "metadata": {
        "id": "6LBeL9UzjejJ"
      },
      "source": [
        "# **Fill khoảng trắng -inf**\n",
        "\n",
        "\n",
        "*   Phương pháp 1: Fill với giá trị min = 0\n",
        "*   Phương pháp 2: Sử dụng nội suy lân cận (nearest-neighbor interpolation)\n",
        "\n"
      ]
    },
    {
      "cell_type": "code",
      "execution_count": 19,
      "metadata": {
        "id": "GQLk8mnjkxfM"
      },
      "outputs": [],
      "source": [
        "def fill_inf_with_finite_image(image):\n",
        "\n",
        "    min_finite = np.min(image[np.isfinite(image)])\n",
        "    image[np.isneginf(image)] = min_finite\n",
        "    return image"
      ]
    },
    {
      "cell_type": "code",
      "execution_count": 20,
      "metadata": {
        "id": "j8GUlIEGsWdb"
      },
      "outputs": [],
      "source": [
        "def fill_inf_with_interpolation(image):\n",
        "    h, w = image.shape\n",
        "    X, Y = np.meshgrid(np.arange(w), np.arange(h))\n",
        "    #take valid points\n",
        "    valid_mask = np.isfinite(image)\n",
        "    valid_points = np.column_stack((X[valid_mask], Y[valid_mask]))\n",
        "    valid_values = image[valid_mask]\n",
        "\n",
        "    #take inf points\n",
        "    inf_mask = np.isneginf(image)\n",
        "    inf_points = np.column_stack((X[inf_mask], Y[inf_mask]))\n",
        "\n",
        "    #interpolation\n",
        "    interpolated_values = griddata(valid_points, valid_values, inf_points, method='nearest')\n",
        "\n",
        "\n",
        "    filled_image = image.copy()\n",
        "    filled_image[inf_mask] = interpolated_values\n",
        "\n",
        "    return filled_image"
      ]
    },
    {
      "cell_type": "code",
      "execution_count": 21,
      "metadata": {
        "colab": {
          "base_uri": "https://localhost:8080/",
          "height": 1000
        },
        "id": "6Lwbp937lveS",
        "outputId": "44c3ece3-0cb1-4174-bf8d-d9c1320b78a6"
      },
      "outputs": [
        {
          "name": "stdout",
          "output_type": "stream",
          "text": [
            "[      -inf       -inf 0.         0.         0.         0.\n",
            " 0.         0.         0.         0.         0.         0.\n",
            " 0.         0.         0.         0.         0.         0.\n",
            " 0.         0.         0.         0.         0.         0.\n",
            " 0.         0.         0.         0.         0.         0.\n",
            " 0.         0.         0.         0.         0.         0.\n",
            " 0.         0.         0.         0.         0.         0.\n",
            " 0.         0.         0.         0.         0.         0.\n",
            " 0.         0.         0.         0.         0.         0.\n",
            " 0.         0.         0.         0.         0.         0.\n",
            " 0.         0.         0.         0.         0.         0.\n",
            " 0.         0.         0.         0.         0.         0.\n",
            " 0.         0.         0.         0.         0.         0.\n",
            " 0.         0.         0.         0.         0.         0.\n",
            " 0.         0.         0.         0.         0.         0.\n",
            " 0.         0.         0.         0.         0.         0.\n",
            " 0.         0.         0.         0.         0.         0.\n",
            " 0.         0.         0.         0.         0.         0.\n",
            " 0.         0.         0.         0.         0.03125    0.\n",
            " 0.51687497 1.1325     2.2237499  0.57124996 0.         0.\n",
            " 0.         0.         0.         0.         0.         0.\n",
            " 0.         0.         0.         0.         0.         0.\n",
            " 0.         0.         0.         0.         0.         0.\n",
            " 0.         0.         0.         0.         0.         0.\n",
            " 0.         0.         0.         0.         0.         0.\n",
            " 0.         0.         0.         0.         0.         0.\n",
            " 0.         0.         0.         0.         0.13125    0.134375\n",
            " 0.20625    2.8775     7.155      4.083125   2.46375    0.\n",
            " 0.49624997 0.68375    0.         0.         0.434375   0.\n",
            " 0.         0.         0.         0.         0.         0.\n",
            " 0.         0.         0.         0.         0.         0.\n",
            " 0.         0.         0.         0.         0.         0.\n",
            " 0.         0.         0.         0.         0.         0.\n",
            " 0.         0.         0.         0.               -inf       -inf\n",
            "       -inf       -inf       -inf       -inf       -inf       -inf\n",
            "       -inf       -inf       -inf       -inf       -inf       -inf\n",
            "       -inf       -inf       -inf       -inf       -inf       -inf\n",
            "       -inf       -inf       -inf       -inf       -inf       -inf\n",
            "       -inf       -inf       -inf       -inf       -inf       -inf\n",
            "       -inf       -inf       -inf       -inf       -inf       -inf\n",
            "       -inf       -inf       -inf       -inf       -inf       -inf\n",
            "       -inf       -inf       -inf       -inf]\n"
          ]
        },
        {
          "data": {
            "image/png": "[encoded data removed]",
            "text/plain": [
              "<Figure size 640x480 with 1 Axes>"
            ]
          },
          "metadata": {},
          "output_type": "display_data"
        }
      ],
      "source": [
        "tiff = './dataset/2019/04/01/Radar_20190401000000.tif'\n",
        "\n",
        "with rasterio.open(tiff) as image:\n",
        "    image_array = image.read(1)\n",
        "\n",
        "    print(image_array[0])\n",
        "    show(image_array)\n"
      ]
    },
    {
      "cell_type": "markdown",
      "metadata": {
        "id": "_iaPWHCWoCqt"
      },
      "source": [
        "# **Fill với giá trị min = 0**"
      ]
    },
    {
      "cell_type": "code",
      "execution_count": 22,
      "metadata": {
        "colab": {
          "base_uri": "https://localhost:8080/",
          "height": 1000
        },
        "id": "E-Az-3-s3bc_",
        "outputId": "ed80aba0-5243-4de7-96eb-9532c1d928fd"
      },
      "outputs": [
        {
          "name": "stdout",
          "output_type": "stream",
          "text": [
            "[0.         0.         0.         0.         0.         0.\n",
            " 0.         0.         0.         0.         0.         0.\n",
            " 0.         0.         0.         0.         0.         0.\n",
            " 0.         0.         0.         0.         0.         0.\n",
            " 0.         0.         0.         0.         0.         0.\n",
            " 0.         0.         0.         0.         0.         0.\n",
            " 0.         0.         0.         0.         0.         0.\n",
            " 0.         0.         0.         0.         0.         0.\n",
            " 0.         0.         0.         0.         0.         0.\n",
            " 0.         0.         0.         0.         0.         0.\n",
            " 0.         0.         0.         0.         0.         0.\n",
            " 0.         0.         0.         0.         0.         0.\n",
            " 0.         0.         0.         0.         0.         0.\n",
            " 0.         0.         0.         0.         0.         0.\n",
            " 0.         0.         0.         0.         0.         0.\n",
            " 0.         0.         0.         0.         0.         0.\n",
            " 0.         0.         0.         0.         0.         0.\n",
            " 0.         0.         0.         0.         0.         0.\n",
            " 0.         0.         0.         0.         0.03125    0.\n",
            " 0.51687497 1.1325     2.2237499  0.57124996 0.         0.\n",
            " 0.         0.         0.         0.         0.         0.\n",
            " 0.         0.         0.         0.         0.         0.\n",
            " 0.         0.         0.         0.         0.         0.\n",
            " 0.         0.         0.         0.         0.         0.\n",
            " 0.         0.         0.         0.         0.         0.\n",
            " 0.         0.         0.         0.         0.         0.\n",
            " 0.         0.         0.         0.         0.13125    0.134375\n",
            " 0.20625    2.8775     7.155      4.083125   2.46375    0.\n",
            " 0.49624997 0.68375    0.         0.         0.434375   0.\n",
            " 0.         0.         0.         0.         0.         0.\n",
            " 0.         0.         0.         0.         0.         0.\n",
            " 0.         0.         0.         0.         0.         0.\n",
            " 0.         0.         0.         0.         0.         0.\n",
            " 0.         0.         0.         0.         0.         0.\n",
            " 0.         0.         0.         0.         0.         0.\n",
            " 0.         0.         0.         0.         0.         0.\n",
            " 0.         0.         0.         0.         0.         0.\n",
            " 0.         0.         0.         0.         0.         0.\n",
            " 0.         0.         0.         0.         0.         0.\n",
            " 0.         0.         0.         0.         0.         0.\n",
            " 0.         0.         0.         0.         0.         0.\n",
            " 0.         0.         0.         0.        ]\n"
          ]
        },
        {
          "data": {
            "image/png": "[encoded data removed]",
            "text/plain": [
              "<Figure size 640x480 with 1 Axes>"
            ]
          },
          "metadata": {},
          "output_type": "display_data"
        },
        {
          "data": {
            "text/plain": [
              "<Axes: >"
            ]
          },
          "execution_count": 22,
          "metadata": {},
          "output_type": "execute_result"
        }
      ],
      "source": [
        "image_array_fix_1 = fill_inf_with_finite_image(image_array)\n",
        "print(image_array_fix_1[0])\n",
        "show(image_array_fix_1)"
      ]
    },
    {
      "cell_type": "markdown",
      "metadata": {
        "id": "A2oE_GjxoZHI"
      },
      "source": [
        "# **Sử dụng nội suy lân cận (nearest-neighbor interpolation)**"
      ]
    },
    {
      "cell_type": "code",
      "execution_count": 23,
      "metadata": {
        "colab": {
          "base_uri": "https://localhost:8080/",
          "height": 1000
        },
        "id": "NYueQdNWl62p",
        "outputId": "94f3e644-fca9-43cf-a1db-8a4c99a1beae"
      },
      "outputs": [
        {
          "name": "stdout",
          "output_type": "stream",
          "text": [
            "[0.         0.         0.         0.         0.         0.\n",
            " 0.         0.         0.         0.         0.         0.\n",
            " 0.         0.         0.         0.         0.         0.\n",
            " 0.         0.         0.         0.         0.         0.\n",
            " 0.         0.         0.         0.         0.         0.\n",
            " 0.         0.         0.         0.         0.         0.\n",
            " 0.         0.         0.         0.         0.         0.\n",
            " 0.         0.         0.         0.         0.         0.\n",
            " 0.         0.         0.         0.         0.         0.\n",
            " 0.         0.         0.         0.         0.         0.\n",
            " 0.         0.         0.         0.         0.         0.\n",
            " 0.         0.         0.         0.         0.         0.\n",
            " 0.         0.         0.         0.         0.         0.\n",
            " 0.         0.         0.         0.         0.         0.\n",
            " 0.         0.         0.         0.         0.         0.\n",
            " 0.         0.         0.         0.         0.         0.\n",
            " 0.         0.         0.         0.         0.         0.\n",
            " 0.         0.         0.         0.         0.         0.\n",
            " 0.         0.         0.         0.         0.03125    0.\n",
            " 0.51687497 1.1325     2.2237499  0.57124996 0.         0.\n",
            " 0.         0.         0.         0.         0.         0.\n",
            " 0.         0.         0.         0.         0.         0.\n",
            " 0.         0.         0.         0.         0.         0.\n",
            " 0.         0.         0.         0.         0.         0.\n",
            " 0.         0.         0.         0.         0.         0.\n",
            " 0.         0.         0.         0.         0.         0.\n",
            " 0.         0.         0.         0.         0.13125    0.134375\n",
            " 0.20625    2.8775     7.155      4.083125   2.46375    0.\n",
            " 0.49624997 0.68375    0.         0.         0.434375   0.\n",
            " 0.         0.         0.         0.         0.         0.\n",
            " 0.         0.         0.         0.         0.         0.\n",
            " 0.         0.         0.         0.         0.         0.\n",
            " 0.         0.         0.         0.         0.         0.\n",
            " 0.         0.         0.         0.         0.         0.\n",
            " 0.         0.         0.         0.         0.         0.\n",
            " 0.         0.         0.         0.         0.         0.\n",
            " 0.         0.         0.         0.         0.         0.\n",
            " 0.         0.         0.         0.         0.         0.\n",
            " 0.         0.         0.         0.         0.         0.\n",
            " 0.         0.         0.         0.         0.         0.\n",
            " 0.         0.         0.         0.         0.         0.\n",
            " 0.         0.         0.         0.        ]\n"
          ]
        },
        {
          "data": {
            "image/png": "[encoded data removed]",
            "text/plain": [
              "<Figure size 640x480 with 1 Axes>"
            ]
          },
          "metadata": {},
          "output_type": "display_data"
        },
        {
          "data": {
            "text/plain": [
              "<Axes: >"
            ]
          },
          "execution_count": 23,
          "metadata": {},
          "output_type": "execute_result"
        }
      ],
      "source": [
        "image_array_fix_2 = fill_inf_with_interpolation(image_array)\n",
        "print(image_array_fix_2[0])\n",
        "show(image_array_fix_2)"
      ]
    }
  ],
  "metadata": {
    "colab": {
      "provenance": []
    },
    "kernelspec": {
      "display_name": "base",
      "language": "python",
      "name": "python3"
    },
    "language_info": {
      "codemirror_mode": {
        "name": "ipython",
        "version": 3
      },
      "file_extension": ".py",
      "mimetype": "text/x-python",
      "name": "python",
      "nbconvert_exporter": "python",
      "pygments_lexer": "ipython3",
      "version": "3.12.9"
    }
  },
  "nbformat": 4,
  "nbformat_minor": 0
}
